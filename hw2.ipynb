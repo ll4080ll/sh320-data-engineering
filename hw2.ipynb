{
 "cells": [
  {
   "cell_type": "markdown",
   "id": "9d07731b",
   "metadata": {},
   "source": [
    "hw2"
   ]
  },
  {
   "cell_type": "code",
   "execution_count": 28,
   "id": "4be650aa",
   "metadata": {},
   "outputs": [
    {
     "data": {
      "text/plain": [
       "['physics', 'calculus', 'poetry', 'history']"
      ]
     },
     "execution_count": 28,
     "metadata": {},
     "output_type": "execute_result"
    }
   ],
   "source": [
    "subjects = [\"physics\",\"calculus\",\"poetry\",\"history\"]\n",
    "subjects"
   ]
  },
  {
   "cell_type": "code",
   "execution_count": 29,
   "id": "37861adc",
   "metadata": {},
   "outputs": [
    {
     "data": {
      "text/plain": [
       "[98, 97, 85, 88]"
      ]
     },
     "execution_count": 29,
     "metadata": {},
     "output_type": "execute_result"
    }
   ],
   "source": [
    "grades = [98, 97, 85, 88]\n",
    "grades"
   ]
  },
  {
   "cell_type": "code",
   "execution_count": 30,
   "id": "e3f55fec",
   "metadata": {},
   "outputs": [
    {
     "data": {
      "text/plain": [
       "[['physics', 98], ['calculus', 97], ['poetry', 85], ['history', 88]]"
      ]
     },
     "execution_count": 30,
     "metadata": {},
     "output_type": "execute_result"
    }
   ],
   "source": [
    "gradebook = [[\"physics\", 98],[\"calculus\", 97],[\"poetry\", 85],[\"history\",88]]\n",
    "gradebook"
   ]
  },
  {
   "cell_type": "code",
   "execution_count": 31,
   "id": "78a82753",
   "metadata": {},
   "outputs": [],
   "source": [
    "gradebook.append(['computer science', 100])"
   ]
  },
  {
   "cell_type": "code",
   "execution_count": 32,
   "id": "9cf3751f",
   "metadata": {},
   "outputs": [
    {
     "data": {
      "text/plain": [
       "[['physics', 98],\n",
       " ['calculus', 97],\n",
       " ['poetry', 85],\n",
       " ['history', 88],\n",
       " ['computer science', 100],\n",
       " ['visual arts', 93]]"
      ]
     },
     "execution_count": 32,
     "metadata": {},
     "output_type": "execute_result"
    }
   ],
   "source": [
    "gradebook.append(['visual arts', 93])\n",
    "gradebook"
   ]
  },
  {
   "cell_type": "code",
   "execution_count": 33,
   "id": "a08677b0",
   "metadata": {},
   "outputs": [
    {
     "data": {
      "text/plain": [
       "[['physics', 98],\n",
       " ['calculus', 97],\n",
       " ['poetry', 85],\n",
       " ['history', 88],\n",
       " ['computer science', 100],\n",
       " ['visual arts', 98]]"
      ]
     },
     "execution_count": 33,
     "metadata": {},
     "output_type": "execute_result"
    }
   ],
   "source": [
    "for subjects in gradebook:\n",
    "    if subjects[0] == 'visual arts':\n",
    "        subjects[1] += 5\n",
    "\n",
    "gradebook"
   ]
  },
  {
   "cell_type": "code",
   "execution_count": 34,
   "id": "731740a5",
   "metadata": {},
   "outputs": [
    {
     "data": {
      "text/plain": [
       "[['physics', 98],\n",
       " ['calculus', 97],\n",
       " ['poetry', 'pass'],\n",
       " ['history', 88],\n",
       " ['computer science', 100],\n",
       " ['visual arts', 98]]"
      ]
     },
     "execution_count": 34,
     "metadata": {},
     "output_type": "execute_result"
    }
   ],
   "source": [
    "for subjects in gradebook:\n",
    "    if subjects[0] == 'poetry':\n",
    "        subjects.remove(subjects[1])\n",
    "        subjects.append('pass')\n",
    "\n",
    "gradebook\n"
   ]
  },
  {
   "cell_type": "code",
   "execution_count": 35,
   "id": "32a76483",
   "metadata": {},
   "outputs": [
    {
     "data": {
      "text/plain": [
       "[['politics', 80], ['latin', 96], ['dance', 97], ['architecture', 65]]"
      ]
     },
     "execution_count": 35,
     "metadata": {},
     "output_type": "execute_result"
    }
   ],
   "source": [
    "last_semester_gradebook = [[\"politics\", 80], [\"latin\", 96], [\"dance\", 97], [\"architecture\", 65]]\n",
    "last_semester_gradebook"
   ]
  },
  {
   "cell_type": "code",
   "execution_count": 36,
   "id": "bb4d0e01",
   "metadata": {},
   "outputs": [
    {
     "data": {
      "text/plain": [
       "[['politics', 80],\n",
       " ['latin', 96],\n",
       " ['dance', 97],\n",
       " ['architecture', 65],\n",
       " ['physics', 98],\n",
       " ['calculus', 97],\n",
       " ['poetry', 'pass'],\n",
       " ['history', 88],\n",
       " ['computer science', 100],\n",
       " ['visual arts', 98]]"
      ]
     },
     "execution_count": 36,
     "metadata": {},
     "output_type": "execute_result"
    }
   ],
   "source": [
    "full_gradebook = last_semester_gradebook + gradebook\n",
    "full_gradebook"
   ]
  }
 ],
 "metadata": {
  "kernelspec": {
   "display_name": "base",
   "language": "python",
   "name": "python3"
  },
  "language_info": {
   "codemirror_mode": {
    "name": "ipython",
    "version": 3
   },
   "file_extension": ".py",
   "mimetype": "text/x-python",
   "name": "python",
   "nbconvert_exporter": "python",
   "pygments_lexer": "ipython3",
   "version": "3.12.7"
  }
 },
 "nbformat": 4,
 "nbformat_minor": 5
}
