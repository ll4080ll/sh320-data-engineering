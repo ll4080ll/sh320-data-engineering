{
 "cells": [
  {
   "cell_type": "markdown",
   "id": "f67ec43c",
   "metadata": {},
   "source": [
    "pw1"
   ]
  },
  {
   "cell_type": "code",
   "execution_count": 2,
   "id": "e709e081",
   "metadata": {},
   "outputs": [
    {
     "data": {
      "text/plain": [
       "'Lovely Loveseat. Tufted polyester blend on wood. 32 inches high x 40 inches wide x 30 inches deep. Red or white.'"
      ]
     },
     "execution_count": 2,
     "metadata": {},
     "output_type": "execute_result"
    }
   ],
   "source": [
    "lovely_loveseat_description = \"Lovely Loveseat. Tufted polyester blend on wood. 32 inches high x 40 inches wide x 30 inches deep. Red or white.\"\n",
    "lovely_loveseat_description"
   ]
  },
  {
   "cell_type": "code",
   "execution_count": 6,
   "id": "ad8e50ab",
   "metadata": {},
   "outputs": [
    {
     "data": {
      "text/plain": [
       "254.0"
      ]
     },
     "execution_count": 6,
     "metadata": {},
     "output_type": "execute_result"
    }
   ],
   "source": [
    "lovely_loveseat_price = 254.00\n",
    "lovely_loveseat_price"
   ]
  },
  {
   "cell_type": "code",
   "execution_count": 7,
   "id": "e24152e5",
   "metadata": {},
   "outputs": [
    {
     "data": {
      "text/plain": [
       "'Stylish Settee. Faux leather on birch. 29.50 inches high x 54.75 inches wide x 28 inches deep. Black.'"
      ]
     },
     "execution_count": 7,
     "metadata": {},
     "output_type": "execute_result"
    }
   ],
   "source": [
    "stylish_settee_description = \"Stylish Settee. Faux leather on birch. 29.50 inches high x 54.75 inches wide x 28 inches deep. Black.\"\n",
    "stylish_settee_description"
   ]
  },
  {
   "cell_type": "code",
   "execution_count": 8,
   "id": "7ef17a85",
   "metadata": {},
   "outputs": [
    {
     "data": {
      "text/plain": [
       "180.5"
      ]
     },
     "execution_count": 8,
     "metadata": {},
     "output_type": "execute_result"
    }
   ],
   "source": [
    "stylish_sette_price = 180.50\n",
    "stylish_sette_price"
   ]
  },
  {
   "cell_type": "code",
   "execution_count": 9,
   "id": "ce6c2f4f",
   "metadata": {},
   "outputs": [
    {
     "data": {
      "text/plain": [
       "'Luxurious Lamp. Glass and iron. 36 inches tall. Brown with cream shade.'"
      ]
     },
     "execution_count": 9,
     "metadata": {},
     "output_type": "execute_result"
    }
   ],
   "source": [
    "luxurious_lamp_description = \"Luxurious Lamp. Glass and iron. 36 inches tall. Brown with cream shade.\"\n",
    "luxurious_lamp_description"
   ]
  },
  {
   "cell_type": "code",
   "execution_count": 10,
   "id": "2f86620f",
   "metadata": {},
   "outputs": [
    {
     "data": {
      "text/plain": [
       "52.15"
      ]
     },
     "execution_count": 10,
     "metadata": {},
     "output_type": "execute_result"
    }
   ],
   "source": [
    "luxurious_lamp_price = 52.15\n",
    "luxurious_lamp_price"
   ]
  },
  {
   "cell_type": "code",
   "execution_count": 18,
   "id": "899f871b",
   "metadata": {},
   "outputs": [
    {
     "data": {
      "text/plain": [
       "0.088"
      ]
     },
     "execution_count": 18,
     "metadata": {},
     "output_type": "execute_result"
    }
   ],
   "source": [
    "sales_tax = 0.088\n",
    "sales_tax"
   ]
  },
  {
   "cell_type": "code",
   "execution_count": 34,
   "id": "703871c4",
   "metadata": {},
   "outputs": [],
   "source": [
    "customer_one_total = 0"
   ]
  },
  {
   "cell_type": "code",
   "execution_count": 35,
   "id": "ceb79c8c",
   "metadata": {},
   "outputs": [],
   "source": [
    "customer_one_itemization = \" \""
   ]
  },
  {
   "cell_type": "code",
   "execution_count": 36,
   "id": "ff516193",
   "metadata": {},
   "outputs": [
    {
     "data": {
      "text/plain": [
       "254.0"
      ]
     },
     "execution_count": 36,
     "metadata": {},
     "output_type": "execute_result"
    }
   ],
   "source": [
    "customer_one_total += lovely_loveseat_price\n",
    "customer_one_total"
   ]
  },
  {
   "cell_type": "code",
   "execution_count": 37,
   "id": "42e28ce3",
   "metadata": {},
   "outputs": [
    {
     "data": {
      "text/plain": [
       "' Lovely Loveseat. Tufted polyester blend on wood. 32 inches high x 40 inches wide x 30 inches deep. Red or white.'"
      ]
     },
     "execution_count": 37,
     "metadata": {},
     "output_type": "execute_result"
    }
   ],
   "source": [
    "customer_one_itemization += lovely_loveseat_description\n",
    "customer_one_itemization"
   ]
  },
  {
   "cell_type": "code",
   "execution_count": 38,
   "id": "11c57c94",
   "metadata": {},
   "outputs": [],
   "source": [
    "customer_one_total += luxurious_lamp_price\n",
    "customer_one_itemization += luxurious_lamp_description"
   ]
  },
  {
   "cell_type": "code",
   "execution_count": 39,
   "id": "52c52598",
   "metadata": {},
   "outputs": [],
   "source": [
    "customer_one_tax = customer_one_total * sales_tax"
   ]
  },
  {
   "cell_type": "code",
   "execution_count": 40,
   "id": "bc3ce753",
   "metadata": {},
   "outputs": [],
   "source": [
    "customer_one_total = customer_one_tax + customer_one_total"
   ]
  },
  {
   "cell_type": "code",
   "execution_count": 41,
   "id": "780f6b83",
   "metadata": {},
   "outputs": [
    {
     "name": "stdout",
     "output_type": "stream",
     "text": [
      "Customer One Items:\n",
      "  Lovely Loveseat. Tufted polyester blend on wood. 32 inches high x 40 inches wide x 30 inches deep. Red or white.Luxurious Lamp. Glass and iron. 36 inches tall. Brown with cream shade.\n"
     ]
    }
   ],
   "source": [
    "print(\"Customer One Items:\\n\",customer_one_itemization)"
   ]
  },
  {
   "cell_type": "code",
   "execution_count": 42,
   "id": "cb5618d1",
   "metadata": {},
   "outputs": [
    {
     "name": "stdout",
     "output_type": "stream",
     "text": [
      "Customer One Total:\n",
      " 333.09119999999996\n"
     ]
    }
   ],
   "source": [
    "print(\"Customer One Total:\\n\",customer_one_total)"
   ]
  },
  {
   "cell_type": "code",
   "execution_count": 43,
   "id": "c6eb53f5",
   "metadata": {},
   "outputs": [
    {
     "name": "stdout",
     "output_type": "stream",
     "text": [
      "Customer One Items:\n",
      "  Lovely Loveseat. Tufted polyester blend on wood. 32 inches high x 40 inches wide x 30 inches deep. Red or white.Luxurious Lamp. Glass and iron. 36 inches tall. Brown with cream shade.\n",
      "Customer One Total:\n",
      " 333.09119999999996\n"
     ]
    }
   ],
   "source": [
    "print(\"Customer One Items:\\n\",customer_one_itemization)\n",
    "print(\"Customer One Total:\\n\",customer_one_total)"
   ]
  }
 ],
 "metadata": {
  "kernelspec": {
   "display_name": "base",
   "language": "python",
   "name": "python3"
  },
  "language_info": {
   "codemirror_mode": {
    "name": "ipython",
    "version": 3
   },
   "file_extension": ".py",
   "mimetype": "text/x-python",
   "name": "python",
   "nbconvert_exporter": "python",
   "pygments_lexer": "ipython3",
   "version": "3.12.7"
  }
 },
 "nbformat": 4,
 "nbformat_minor": 5
}
