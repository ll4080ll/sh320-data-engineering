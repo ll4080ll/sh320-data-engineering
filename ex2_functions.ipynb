{
 "cells": [
  {
   "cell_type": "markdown",
   "metadata": {},
   "source": [
    "## **2. 함수**"
   ]
  },
  {
   "cell_type": "code",
   "execution_count": 3,
   "metadata": {},
   "outputs": [
    {
     "data": {
      "text/plain": [
       "2"
      ]
     },
     "execution_count": 3,
     "metadata": {},
     "output_type": "execute_result"
    }
   ],
   "source": [
    "# [+] 함수 정의 및 테스트\n",
    "def add_one(x):\n",
    "    return x + 1\n",
    "\n",
    "add_one(1)"
   ]
  },
  {
   "cell_type": "code",
   "execution_count": 4,
   "metadata": {},
   "outputs": [
    {
     "data": {
      "text/plain": [
       "6"
      ]
     },
     "execution_count": 4,
     "metadata": {},
     "output_type": "execute_result"
    }
   ],
   "source": [
    "# [+] 변수값을 이용한 함수 호출\n",
    "x = 5\n",
    "add_one(x)"
   ]
  },
  {
   "cell_type": "code",
   "execution_count": 5,
   "metadata": {},
   "outputs": [],
   "source": [
    "# [+] 클래스 및 메서드 정의\n",
    "class Person(): # 클래스 정의\n",
    "    def __init__(self, name, age): # 생성자(constructor) 메서드\n",
    "        self.name = name\n",
    "        self.age = age\n",
    "    def introduce_myself(self): # 일반 메서드\n",
    "        print(f\"My name is {self.name} and I'm {self.age} years old.\")"
   ]
  },
  {
   "cell_type": "code",
   "execution_count": 6,
   "metadata": {},
   "outputs": [
    {
     "name": "stdout",
     "output_type": "stream",
     "text": [
      "My name is Hyun Ahn and I'm 39 years old.\n"
     ]
    }
   ],
   "source": [
    "# [+] 인스턴스 생성 및 메서드 호출\n",
    "me = Person(\"Hyun Ahn\", 39) # 인스턴스 생성\n",
    "me.introduce_myself() # 메서드 호출"
   ]
  },
  {
   "cell_type": "code",
   "execution_count": 7,
   "metadata": {},
   "outputs": [
    {
     "name": "stdout",
     "output_type": "stream",
     "text": [
      "Hello everyone, my name is Hyun Ahn, I was born in 1985, and I live in Anyang.\n"
     ]
    }
   ],
   "source": [
    "# 매개변수(parameters)와 인자(arguments)\n",
    "\n",
    "def introduce_myself(name, birthyear, city): # 매개변수 정의\n",
    "    print(f\"Hello everyone, my name is {name}, I was born in {birthyear}, and I live in {city}.\")\n",
    "\n",
    "introduce_myself(\"Hyun Ahn\", 1985, \"Anyang\") # 인자"
   ]
  },
  {
   "cell_type": "code",
   "execution_count": 8,
   "metadata": {},
   "outputs": [
    {
     "data": {
      "text/plain": [
       "'2025 윤년아님'"
      ]
     },
     "execution_count": 8,
     "metadata": {},
     "output_type": "execute_result"
    }
   ],
   "source": [
    "# [+] return 키워드\n",
    "\n",
    "# 예제: leap year(윤년)\n",
    "def check_leap_year(year):\n",
    "    if year % 4 == 0:\n",
    "        return f\"{year} 윤년임\"\n",
    "    else:\n",
    "        return f\"{year} 윤년아님\"\n",
    "result = check_leap_year(2025)\n",
    "result"
   ]
  },
  {
   "cell_type": "code",
   "execution_count": 9,
   "metadata": {},
   "outputs": [
    {
     "name": "stdout",
     "output_type": "stream",
     "text": [
      "9 16 25\n"
     ]
    }
   ],
   "source": [
    "# [+] 여러 개의 값들을 반환\n",
    "\n",
    "def square_point(x, y, z):\n",
    "    x_squared = x ** 2\n",
    "    y_squared = y ** 2\n",
    "    z_squared = z ** 2\n",
    "    return x_squared, y_squared, z_squared\n",
    "three_squared, four_squared, five_squared = square_point(3, 4, 5)\n",
    "print(three_squared, four_squared, five_squared)"
   ]
  },
  {
   "cell_type": "code",
   "execution_count": 10,
   "metadata": {},
   "outputs": [
    {
     "ename": "NameError",
     "evalue": "name 'squared_one' is not defined",
     "output_type": "error",
     "traceback": [
      "\u001b[1;31m---------------------------------------------------------------------------\u001b[0m",
      "\u001b[1;31mNameError\u001b[0m                                 Traceback (most recent call last)",
      "Cell \u001b[1;32mIn[10], line 1\u001b[0m\n\u001b[1;32m----> 1\u001b[0m \u001b[38;5;28mprint\u001b[39m(squared_one)\n",
      "\u001b[1;31mNameError\u001b[0m: name 'squared_one' is not defined"
     ]
    }
   ],
   "source": [
    "print(squared_one)"
   ]
  },
  {
   "cell_type": "code",
   "execution_count": 11,
   "metadata": {},
   "outputs": [
    {
     "name": "stdout",
     "output_type": "stream",
     "text": [
      "Hello\n",
      "Hello\n"
     ]
    }
   ],
   "source": [
    "# 전역변수(global variable)\n",
    "\n",
    "a = \"Hello\"\n",
    "\n",
    "def prints_a():\n",
    "    print(a)\n",
    "\n",
    "print(a)   # 함수 밖에서 호출\n",
    "prints_a() # 함수 호출"
   ]
  },
  {
   "cell_type": "code",
   "execution_count": 12,
   "metadata": {},
   "outputs": [
    {
     "name": "stdout",
     "output_type": "stream",
     "text": [
      "Hello\n",
      "Bye\n"
     ]
    }
   ],
   "source": [
    "# 지역변수(local variable)\n",
    "\n",
    "a = \"Hello\"\n",
    "\n",
    "def prints_a():\n",
    "    a = \"Bye\"\n",
    "    print(a)\n",
    "\n",
    "print(a)   # 함수 밖에서 호출: 전역 변수 출력 \n",
    "prints_a() # 함수 호출: 지역 변수 출력"
   ]
  },
  {
   "cell_type": "code",
   "execution_count": 13,
   "metadata": {},
   "outputs": [
    {
     "name": "stdout",
     "output_type": "stream",
     "text": [
      "7\n",
      "None\n"
     ]
    },
    {
     "ename": "NameError",
     "evalue": "name 'value' is not defined",
     "output_type": "error",
     "traceback": [
      "\u001b[1;31m---------------------------------------------------------------------------\u001b[0m",
      "\u001b[1;31mNameError\u001b[0m                                 Traceback (most recent call last)",
      "Cell \u001b[1;32mIn[13], line 6\u001b[0m\n\u001b[0;32m      3\u001b[0m     \u001b[38;5;28mprint\u001b[39m(value)\n\u001b[0;32m      5\u001b[0m \u001b[38;5;28mprint\u001b[39m(my_function(\u001b[38;5;241m7\u001b[39m))\n\u001b[1;32m----> 6\u001b[0m \u001b[38;5;28mprint\u001b[39m(value)\n",
      "\u001b[1;31mNameError\u001b[0m: name 'value' is not defined"
     ]
    }
   ],
   "source": [
    "# 함수 매개변수 = 지역변수\n",
    "def my_function(value):\n",
    "    print(value)\n",
    "\n",
    "print(my_function(7))\n",
    "print(value)"
   ]
  },
  {
   "cell_type": "code",
   "execution_count": 14,
   "metadata": {},
   "outputs": [
    {
     "name": "stdout",
     "output_type": "stream",
     "text": [
      "Height = 1\n",
      "Width = 2\n",
      "Depth = 3\n",
      "Height = 5\n",
      "Width = 4\n",
      "Depth = 2\n",
      "Height = 3\n",
      "Width = 1\n",
      "Depth = 1\n"
     ]
    },
    {
     "data": {
      "text/plain": [
       "3"
      ]
     },
     "execution_count": 14,
     "metadata": {},
     "output_type": "execute_result"
    }
   ],
   "source": [
    "# [+] 키워드 인자(keyword arguments)와 디폴트 값\n",
    "\n",
    "def findvolume(height=1, width=1, depth=1):\n",
    "    print(\"Height = %s\" % (height))\n",
    "    print(\"Width = %s\" % (width))\n",
    "    print(\"Depth = %s\" % (depth))\n",
    "    return height * width * depth\n",
    "\n",
    "findvolume(1, 2, 3)\n",
    "findvolume(width=4, depth=2, height=5)\n",
    "findvolume(height=3)"
   ]
  }
 ],
 "metadata": {
  "kernelspec": {
   "display_name": "base",
   "language": "python",
   "name": "python3"
  },
  "language_info": {
   "codemirror_mode": {
    "name": "ipython",
    "version": 3
   },
   "file_extension": ".py",
   "mimetype": "text/x-python",
   "name": "python",
   "nbconvert_exporter": "python",
   "pygments_lexer": "ipython3",
   "version": "3.12.7"
  }
 },
 "nbformat": 4,
 "nbformat_minor": 4
}
